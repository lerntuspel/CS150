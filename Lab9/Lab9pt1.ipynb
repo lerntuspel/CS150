{
  "nbformat": 4,
  "nbformat_minor": 0,
  "metadata": {
    "colab": {
      "name": "Lab9pt1.ipynb",
      "provenance": []
    },
    "kernelspec": {
      "name": "python3",
      "display_name": "Python 3"
    }
  },
  "cells": [
    {
      "cell_type": "markdown",
      "metadata": {
        "id": "efIl_kGLrvq1",
        "colab_type": "text"
      },
      "source": [
        "# SCAVENGER HUNT!\n",
        "\n",
        "**This lab is extra credit**\n",
        "\n",
        "The purpose of this lab is to:\n",
        "\n",
        "* Review recursion and other past topics\n",
        "* Have fun!\n",
        "\n",
        "# Getting Started\n",
        "\n",
        "This lab has 3 parts. Completing one part successfully leads you the next. \n",
        "\n",
        "There are a few files you'll want for the various parts of this lab. Save these three files before you begin:\n",
        "\n",
        "[code.txt](http://www.cs.oberlin.edu/~ctaylor/classes/150S20/Labs/Lab09/code.txt)\n",
        "[fruit.bmp](http://www.cs.oberlin.edu/~ctaylor/classes/150S20/Labs/Lab09/fruit.bmp)\n",
        "[picture.py](http://www.cs.oberlin.edu/~ctaylor/classes/150S20/Labs/Lab09/picture.py)\n",
        "\n",
        "#Part 1 - Syracuse\n",
        "*syracuse.py: 12 pts*\n",
        "\n",
        "The Syracuse problem (also known variously as the 3x+1 problem, the Collatz Conjecture, or Kakutani's problem) concerns a strange collection of sequences. For every positive integer, there is a Syracuse sequence. For example, Syracuse sequence 17 is\n",
        "\n",
        "17 52 26 13 40 20 10 5 16 8 4 2 1\n",
        "\n",
        "The Syracuse sequence for the number x is created by recursively applying the following function f, which returns one of two values depending on whether x is even or odd. In particular, f(x) = 3x+1 if x is odd, and f(x) = x/2 if x is even. Once f(x) is equal to 1, you stop (you could keep going, but at this point we'd just cycle between 4, 2 and 1, so generally we stop the sequence at 1). As another example, Syracuse sequence 14 looks like\n",
        "\n",
        "14 7 22 11 34 17 52 26 13 40 20 10 5 16 8 4 2 1\n",
        "\n",
        "Note that once we reach 17, the pattern is the same as the previous one. No one knows whether all Syracuse sequences eventually reach 1. In other words, it is possible that for some starting numbers, the corresponding Syracuse sequences never get to 1. However, mathematicians have checked a few numbers, and at least the first quintillion (a billion billion) of them do make it to 1 eventually :)\n",
        "\n",
        "Write a program called syracuse.py. Create a recursive function rec(x) that takes in an integer x and returns an integer indicating the number of elements in the Syracuse sequence that begins with x (counting the starting number x and the final number 1). So rec(4) should return 3, rec(17) should return 13, and rec(28) should return 19. You may find it helpful to temporarily use print statements within your recursive function so you can see whether it is behaving as intended, but be sure to remove these once you get it working.\n",
        "\n",
        "Important: The function rec may only take in a single integer and may only return a single integer. Do NOT use global variables (variables accessible in any function body). Do NOT use loops within rec.\n",
        "\n",
        "Your program should begin by prompting the user for a sequence length (a positive integer). Using a while loop and your rec function, find the smallest starting integer x such that Syracuse sequence x has at least the requested length. For example, the first 10 Syracuse sequences have lengths\n",
        "\n",
        "Starting Value\t1\t2\t3\t4\t5\t6\t7\t8\t9\t10\n",
        "Sequence Length\t1\t2\t8\t3\t6\t9\t17\t4\t20\t7\n",
        "So if the user entered 6, your program should print 3: the third Syracuse sequence is the first to have length at least 6. Were the user to enter 15, your program should print 7, since all Syracuse sequences from one to six have lengths less than 15, while Syracuse sequence 7 has a length at least 15.\n",
        "\n",
        "Find the smallest integer x whose Syracuse sequence contains at least 150 numbers. You will add this number to the end of the lab URL to find the next part of the lab. For example, if the correct answer was 12345 (it isn't), you'd go to http://cs.oberlin.edu/~ctaylor/classes/150S20/Labs/Lab09/12345.html"
      ]
    },
    {
      "cell_type": "code",
      "metadata": {
        "id": "lgHXQ2nBru3y",
        "colab_type": "code",
        "colab": {}
      },
      "source": [
        ""
      ],
      "execution_count": 0,
      "outputs": []
    }
  ]
}